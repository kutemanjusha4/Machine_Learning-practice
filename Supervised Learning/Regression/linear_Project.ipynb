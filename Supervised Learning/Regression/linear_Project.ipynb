{
 "cells": [
  {
   "cell_type": "code",
   "execution_count": 1,
   "id": "a06ca271-7ede-4a7d-b2b5-d91af155911b",
   "metadata": {},
   "outputs": [],
   "source": [
    "import pandas as pd\n",
    "import matplotlib.pyplot as plt"
   ]
  },
  {
   "cell_type": "code",
   "execution_count": 3,
   "id": "8941adb5-f87a-48aa-9f4e-daef8aab911b",
   "metadata": {},
   "outputs": [],
   "source": [
    "df = pd.read_csv(\"car_data.csv\")"
   ]
  },
  {
   "cell_type": "code",
   "execution_count": 4,
   "id": "0b519dc2-65d2-4f49-ae79-05f5ff03e771",
   "metadata": {},
   "outputs": [
    {
     "data": {
      "text/html": [
       "<div>\n",
       "<style scoped>\n",
       "    .dataframe tbody tr th:only-of-type {\n",
       "        vertical-align: middle;\n",
       "    }\n",
       "\n",
       "    .dataframe tbody tr th {\n",
       "        vertical-align: top;\n",
       "    }\n",
       "\n",
       "    .dataframe thead th {\n",
       "        text-align: right;\n",
       "    }\n",
       "</style>\n",
       "<table border=\"1\" class=\"dataframe\">\n",
       "  <thead>\n",
       "    <tr style=\"text-align: right;\">\n",
       "      <th></th>\n",
       "      <th>Car_Name</th>\n",
       "      <th>Year</th>\n",
       "      <th>Selling_Price</th>\n",
       "      <th>Present_Price</th>\n",
       "      <th>Kms_Driven</th>\n",
       "      <th>Fuel_Type</th>\n",
       "      <th>Seller_Type</th>\n",
       "      <th>Transmission</th>\n",
       "      <th>Owner</th>\n",
       "    </tr>\n",
       "  </thead>\n",
       "  <tbody>\n",
       "    <tr>\n",
       "      <th>0</th>\n",
       "      <td>ritz</td>\n",
       "      <td>2014</td>\n",
       "      <td>3.35</td>\n",
       "      <td>5.59</td>\n",
       "      <td>27000</td>\n",
       "      <td>Petrol</td>\n",
       "      <td>Dealer</td>\n",
       "      <td>Manual</td>\n",
       "      <td>0</td>\n",
       "    </tr>\n",
       "    <tr>\n",
       "      <th>1</th>\n",
       "      <td>sx4</td>\n",
       "      <td>2013</td>\n",
       "      <td>4.75</td>\n",
       "      <td>9.54</td>\n",
       "      <td>43000</td>\n",
       "      <td>Diesel</td>\n",
       "      <td>Dealer</td>\n",
       "      <td>Manual</td>\n",
       "      <td>0</td>\n",
       "    </tr>\n",
       "    <tr>\n",
       "      <th>2</th>\n",
       "      <td>ciaz</td>\n",
       "      <td>2017</td>\n",
       "      <td>7.25</td>\n",
       "      <td>9.85</td>\n",
       "      <td>6900</td>\n",
       "      <td>Petrol</td>\n",
       "      <td>Dealer</td>\n",
       "      <td>Manual</td>\n",
       "      <td>0</td>\n",
       "    </tr>\n",
       "    <tr>\n",
       "      <th>3</th>\n",
       "      <td>wagon r</td>\n",
       "      <td>2011</td>\n",
       "      <td>2.85</td>\n",
       "      <td>4.15</td>\n",
       "      <td>5200</td>\n",
       "      <td>Petrol</td>\n",
       "      <td>Dealer</td>\n",
       "      <td>Manual</td>\n",
       "      <td>0</td>\n",
       "    </tr>\n",
       "    <tr>\n",
       "      <th>4</th>\n",
       "      <td>swift</td>\n",
       "      <td>2014</td>\n",
       "      <td>4.60</td>\n",
       "      <td>6.87</td>\n",
       "      <td>42450</td>\n",
       "      <td>Diesel</td>\n",
       "      <td>Dealer</td>\n",
       "      <td>Manual</td>\n",
       "      <td>0</td>\n",
       "    </tr>\n",
       "  </tbody>\n",
       "</table>\n",
       "</div>"
      ],
      "text/plain": [
       "  Car_Name  Year  Selling_Price  Present_Price  Kms_Driven Fuel_Type  \\\n",
       "0     ritz  2014           3.35           5.59       27000    Petrol   \n",
       "1      sx4  2013           4.75           9.54       43000    Diesel   \n",
       "2     ciaz  2017           7.25           9.85        6900    Petrol   \n",
       "3  wagon r  2011           2.85           4.15        5200    Petrol   \n",
       "4    swift  2014           4.60           6.87       42450    Diesel   \n",
       "\n",
       "  Seller_Type Transmission  Owner  \n",
       "0      Dealer       Manual      0  \n",
       "1      Dealer       Manual      0  \n",
       "2      Dealer       Manual      0  \n",
       "3      Dealer       Manual      0  \n",
       "4      Dealer       Manual      0  "
      ]
     },
     "execution_count": 4,
     "metadata": {},
     "output_type": "execute_result"
    }
   ],
   "source": [
    "df.head()"
   ]
  },
  {
   "cell_type": "code",
   "execution_count": 5,
   "id": "6277f013-17fe-4f01-842c-ad81b1e5689e",
   "metadata": {},
   "outputs": [],
   "source": [
    "x = df.drop(\"Selling_Price\" , axis = 1)"
   ]
  },
  {
   "cell_type": "code",
   "execution_count": 6,
   "id": "ba4f8634-652e-41ad-9126-9b45347c89fc",
   "metadata": {},
   "outputs": [],
   "source": [
    "y = df.Selling_Price\t"
   ]
  },
  {
   "cell_type": "code",
   "execution_count": 7,
   "id": "6cf57e0b-eb03-4890-8f4a-832912640467",
   "metadata": {},
   "outputs": [
    {
     "data": {
      "text/html": [
       "<div>\n",
       "<style scoped>\n",
       "    .dataframe tbody tr th:only-of-type {\n",
       "        vertical-align: middle;\n",
       "    }\n",
       "\n",
       "    .dataframe tbody tr th {\n",
       "        vertical-align: top;\n",
       "    }\n",
       "\n",
       "    .dataframe thead th {\n",
       "        text-align: right;\n",
       "    }\n",
       "</style>\n",
       "<table border=\"1\" class=\"dataframe\">\n",
       "  <thead>\n",
       "    <tr style=\"text-align: right;\">\n",
       "      <th></th>\n",
       "      <th>Car_Name</th>\n",
       "      <th>Year</th>\n",
       "      <th>Present_Price</th>\n",
       "      <th>Kms_Driven</th>\n",
       "      <th>Fuel_Type</th>\n",
       "      <th>Seller_Type</th>\n",
       "      <th>Transmission</th>\n",
       "      <th>Owner</th>\n",
       "    </tr>\n",
       "  </thead>\n",
       "  <tbody>\n",
       "    <tr>\n",
       "      <th>0</th>\n",
       "      <td>ritz</td>\n",
       "      <td>2014</td>\n",
       "      <td>5.59</td>\n",
       "      <td>27000</td>\n",
       "      <td>Petrol</td>\n",
       "      <td>Dealer</td>\n",
       "      <td>Manual</td>\n",
       "      <td>0</td>\n",
       "    </tr>\n",
       "    <tr>\n",
       "      <th>1</th>\n",
       "      <td>sx4</td>\n",
       "      <td>2013</td>\n",
       "      <td>9.54</td>\n",
       "      <td>43000</td>\n",
       "      <td>Diesel</td>\n",
       "      <td>Dealer</td>\n",
       "      <td>Manual</td>\n",
       "      <td>0</td>\n",
       "    </tr>\n",
       "    <tr>\n",
       "      <th>2</th>\n",
       "      <td>ciaz</td>\n",
       "      <td>2017</td>\n",
       "      <td>9.85</td>\n",
       "      <td>6900</td>\n",
       "      <td>Petrol</td>\n",
       "      <td>Dealer</td>\n",
       "      <td>Manual</td>\n",
       "      <td>0</td>\n",
       "    </tr>\n",
       "    <tr>\n",
       "      <th>3</th>\n",
       "      <td>wagon r</td>\n",
       "      <td>2011</td>\n",
       "      <td>4.15</td>\n",
       "      <td>5200</td>\n",
       "      <td>Petrol</td>\n",
       "      <td>Dealer</td>\n",
       "      <td>Manual</td>\n",
       "      <td>0</td>\n",
       "    </tr>\n",
       "    <tr>\n",
       "      <th>4</th>\n",
       "      <td>swift</td>\n",
       "      <td>2014</td>\n",
       "      <td>6.87</td>\n",
       "      <td>42450</td>\n",
       "      <td>Diesel</td>\n",
       "      <td>Dealer</td>\n",
       "      <td>Manual</td>\n",
       "      <td>0</td>\n",
       "    </tr>\n",
       "  </tbody>\n",
       "</table>\n",
       "</div>"
      ],
      "text/plain": [
       "  Car_Name  Year  Present_Price  Kms_Driven Fuel_Type Seller_Type  \\\n",
       "0     ritz  2014           5.59       27000    Petrol      Dealer   \n",
       "1      sx4  2013           9.54       43000    Diesel      Dealer   \n",
       "2     ciaz  2017           9.85        6900    Petrol      Dealer   \n",
       "3  wagon r  2011           4.15        5200    Petrol      Dealer   \n",
       "4    swift  2014           6.87       42450    Diesel      Dealer   \n",
       "\n",
       "  Transmission  Owner  \n",
       "0       Manual      0  \n",
       "1       Manual      0  \n",
       "2       Manual      0  \n",
       "3       Manual      0  \n",
       "4       Manual      0  "
      ]
     },
     "execution_count": 7,
     "metadata": {},
     "output_type": "execute_result"
    }
   ],
   "source": [
    "x.head()"
   ]
  },
  {
   "cell_type": "code",
   "execution_count": 8,
   "id": "ee889da3-7bb2-4d1f-aaaa-5b11327b3092",
   "metadata": {},
   "outputs": [
    {
     "data": {
      "text/plain": [
       "0    3.35\n",
       "1    4.75\n",
       "2    7.25\n",
       "3    2.85\n",
       "4    4.60\n",
       "Name: Selling_Price, dtype: float64"
      ]
     },
     "execution_count": 8,
     "metadata": {},
     "output_type": "execute_result"
    }
   ],
   "source": [
    "y.head()"
   ]
  },
  {
   "cell_type": "code",
   "execution_count": 9,
   "id": "e52124fc-2946-4ed1-aefb-b5f0b754d8bf",
   "metadata": {},
   "outputs": [],
   "source": [
    "x.drop(['Car_Name','Present_Price'],axis = 1,inplace = True)"
   ]
  },
  {
   "cell_type": "code",
   "execution_count": 10,
   "id": "29e841a2-2075-40d1-a90f-6be4ac5f1eac",
   "metadata": {},
   "outputs": [
    {
     "data": {
      "text/html": [
       "<div>\n",
       "<style scoped>\n",
       "    .dataframe tbody tr th:only-of-type {\n",
       "        vertical-align: middle;\n",
       "    }\n",
       "\n",
       "    .dataframe tbody tr th {\n",
       "        vertical-align: top;\n",
       "    }\n",
       "\n",
       "    .dataframe thead th {\n",
       "        text-align: right;\n",
       "    }\n",
       "</style>\n",
       "<table border=\"1\" class=\"dataframe\">\n",
       "  <thead>\n",
       "    <tr style=\"text-align: right;\">\n",
       "      <th></th>\n",
       "      <th>Year</th>\n",
       "      <th>Kms_Driven</th>\n",
       "      <th>Fuel_Type</th>\n",
       "      <th>Seller_Type</th>\n",
       "      <th>Transmission</th>\n",
       "      <th>Owner</th>\n",
       "    </tr>\n",
       "  </thead>\n",
       "  <tbody>\n",
       "    <tr>\n",
       "      <th>0</th>\n",
       "      <td>2014</td>\n",
       "      <td>27000</td>\n",
       "      <td>Petrol</td>\n",
       "      <td>Dealer</td>\n",
       "      <td>Manual</td>\n",
       "      <td>0</td>\n",
       "    </tr>\n",
       "    <tr>\n",
       "      <th>1</th>\n",
       "      <td>2013</td>\n",
       "      <td>43000</td>\n",
       "      <td>Diesel</td>\n",
       "      <td>Dealer</td>\n",
       "      <td>Manual</td>\n",
       "      <td>0</td>\n",
       "    </tr>\n",
       "    <tr>\n",
       "      <th>2</th>\n",
       "      <td>2017</td>\n",
       "      <td>6900</td>\n",
       "      <td>Petrol</td>\n",
       "      <td>Dealer</td>\n",
       "      <td>Manual</td>\n",
       "      <td>0</td>\n",
       "    </tr>\n",
       "    <tr>\n",
       "      <th>3</th>\n",
       "      <td>2011</td>\n",
       "      <td>5200</td>\n",
       "      <td>Petrol</td>\n",
       "      <td>Dealer</td>\n",
       "      <td>Manual</td>\n",
       "      <td>0</td>\n",
       "    </tr>\n",
       "    <tr>\n",
       "      <th>4</th>\n",
       "      <td>2014</td>\n",
       "      <td>42450</td>\n",
       "      <td>Diesel</td>\n",
       "      <td>Dealer</td>\n",
       "      <td>Manual</td>\n",
       "      <td>0</td>\n",
       "    </tr>\n",
       "  </tbody>\n",
       "</table>\n",
       "</div>"
      ],
      "text/plain": [
       "   Year  Kms_Driven Fuel_Type Seller_Type Transmission  Owner\n",
       "0  2014       27000    Petrol      Dealer       Manual      0\n",
       "1  2013       43000    Diesel      Dealer       Manual      0\n",
       "2  2017        6900    Petrol      Dealer       Manual      0\n",
       "3  2011        5200    Petrol      Dealer       Manual      0\n",
       "4  2014       42450    Diesel      Dealer       Manual      0"
      ]
     },
     "execution_count": 10,
     "metadata": {},
     "output_type": "execute_result"
    }
   ],
   "source": [
    "x.head()"
   ]
  },
  {
   "cell_type": "code",
   "execution_count": 12,
   "id": "ecb9903e-69b4-4482-9adb-f3e668926997",
   "metadata": {},
   "outputs": [
    {
     "data": {
      "text/plain": [
       "(301, 6)"
      ]
     },
     "execution_count": 12,
     "metadata": {},
     "output_type": "execute_result"
    }
   ],
   "source": [
    "x.shape"
   ]
  },
  {
   "cell_type": "code",
   "execution_count": 13,
   "id": "00a60d94-757c-46cd-82dc-ecf866c1c9e2",
   "metadata": {},
   "outputs": [
    {
     "name": "stdout",
     "output_type": "stream",
     "text": [
      "<class 'pandas.core.frame.DataFrame'>\n",
      "RangeIndex: 301 entries, 0 to 300\n",
      "Data columns (total 6 columns):\n",
      " #   Column        Non-Null Count  Dtype \n",
      "---  ------        --------------  ----- \n",
      " 0   Year          301 non-null    int64 \n",
      " 1   Kms_Driven    301 non-null    int64 \n",
      " 2   Fuel_Type     301 non-null    object\n",
      " 3   Seller_Type   301 non-null    object\n",
      " 4   Transmission  301 non-null    object\n",
      " 5   Owner         301 non-null    int64 \n",
      "dtypes: int64(3), object(3)\n",
      "memory usage: 14.2+ KB\n"
     ]
    }
   ],
   "source": [
    "x.info()"
   ]
  },
  {
   "cell_type": "code",
   "execution_count": 14,
   "id": "5ad8884c-5f02-4f0e-b02e-0fe25229af49",
   "metadata": {},
   "outputs": [
    {
     "data": {
      "text/plain": [
       "Year            0\n",
       "Kms_Driven      0\n",
       "Fuel_Type       0\n",
       "Seller_Type     0\n",
       "Transmission    0\n",
       "Owner           0\n",
       "dtype: int64"
      ]
     },
     "execution_count": 14,
     "metadata": {},
     "output_type": "execute_result"
    }
   ],
   "source": [
    "x.isnull().sum()"
   ]
  },
  {
   "cell_type": "code",
   "execution_count": 15,
   "id": "93d63882-abe9-4389-bd80-879ebd2a1244",
   "metadata": {},
   "outputs": [
    {
     "data": {
      "text/html": [
       "<div>\n",
       "<style scoped>\n",
       "    .dataframe tbody tr th:only-of-type {\n",
       "        vertical-align: middle;\n",
       "    }\n",
       "\n",
       "    .dataframe tbody tr th {\n",
       "        vertical-align: top;\n",
       "    }\n",
       "\n",
       "    .dataframe thead th {\n",
       "        text-align: right;\n",
       "    }\n",
       "</style>\n",
       "<table border=\"1\" class=\"dataframe\">\n",
       "  <thead>\n",
       "    <tr style=\"text-align: right;\">\n",
       "      <th></th>\n",
       "      <th>Year</th>\n",
       "      <th>Kms_Driven</th>\n",
       "      <th>Fuel_Type</th>\n",
       "      <th>Seller_Type</th>\n",
       "      <th>Transmission</th>\n",
       "      <th>Owner</th>\n",
       "    </tr>\n",
       "  </thead>\n",
       "  <tbody>\n",
       "    <tr>\n",
       "      <th>0</th>\n",
       "      <td>2014</td>\n",
       "      <td>27000</td>\n",
       "      <td>Petrol</td>\n",
       "      <td>Dealer</td>\n",
       "      <td>Manual</td>\n",
       "      <td>0</td>\n",
       "    </tr>\n",
       "    <tr>\n",
       "      <th>1</th>\n",
       "      <td>2013</td>\n",
       "      <td>43000</td>\n",
       "      <td>Diesel</td>\n",
       "      <td>Dealer</td>\n",
       "      <td>Manual</td>\n",
       "      <td>0</td>\n",
       "    </tr>\n",
       "    <tr>\n",
       "      <th>2</th>\n",
       "      <td>2017</td>\n",
       "      <td>6900</td>\n",
       "      <td>Petrol</td>\n",
       "      <td>Dealer</td>\n",
       "      <td>Manual</td>\n",
       "      <td>0</td>\n",
       "    </tr>\n",
       "    <tr>\n",
       "      <th>3</th>\n",
       "      <td>2011</td>\n",
       "      <td>5200</td>\n",
       "      <td>Petrol</td>\n",
       "      <td>Dealer</td>\n",
       "      <td>Manual</td>\n",
       "      <td>0</td>\n",
       "    </tr>\n",
       "    <tr>\n",
       "      <th>4</th>\n",
       "      <td>2014</td>\n",
       "      <td>42450</td>\n",
       "      <td>Diesel</td>\n",
       "      <td>Dealer</td>\n",
       "      <td>Manual</td>\n",
       "      <td>0</td>\n",
       "    </tr>\n",
       "  </tbody>\n",
       "</table>\n",
       "</div>"
      ],
      "text/plain": [
       "   Year  Kms_Driven Fuel_Type Seller_Type Transmission  Owner\n",
       "0  2014       27000    Petrol      Dealer       Manual      0\n",
       "1  2013       43000    Diesel      Dealer       Manual      0\n",
       "2  2017        6900    Petrol      Dealer       Manual      0\n",
       "3  2011        5200    Petrol      Dealer       Manual      0\n",
       "4  2014       42450    Diesel      Dealer       Manual      0"
      ]
     },
     "execution_count": 15,
     "metadata": {},
     "output_type": "execute_result"
    }
   ],
   "source": [
    "x.head()"
   ]
  },
  {
   "cell_type": "code",
   "execution_count": 18,
   "id": "65d9fb65-ed64-4ded-863d-57d0d532876b",
   "metadata": {},
   "outputs": [],
   "source": [
    "x['Year'] = 2024-x['Year']"
   ]
  },
  {
   "cell_type": "code",
   "execution_count": 19,
   "id": "42fb2855-1cd8-4372-978d-10ae3654af83",
   "metadata": {},
   "outputs": [
    {
     "data": {
      "text/html": [
       "<div>\n",
       "<style scoped>\n",
       "    .dataframe tbody tr th:only-of-type {\n",
       "        vertical-align: middle;\n",
       "    }\n",
       "\n",
       "    .dataframe tbody tr th {\n",
       "        vertical-align: top;\n",
       "    }\n",
       "\n",
       "    .dataframe thead th {\n",
       "        text-align: right;\n",
       "    }\n",
       "</style>\n",
       "<table border=\"1\" class=\"dataframe\">\n",
       "  <thead>\n",
       "    <tr style=\"text-align: right;\">\n",
       "      <th></th>\n",
       "      <th>Year</th>\n",
       "      <th>Kms_Driven</th>\n",
       "      <th>Fuel_Type</th>\n",
       "      <th>Seller_Type</th>\n",
       "      <th>Transmission</th>\n",
       "      <th>Owner</th>\n",
       "    </tr>\n",
       "  </thead>\n",
       "  <tbody>\n",
       "    <tr>\n",
       "      <th>0</th>\n",
       "      <td>2014</td>\n",
       "      <td>27000</td>\n",
       "      <td>Petrol</td>\n",
       "      <td>Dealer</td>\n",
       "      <td>Manual</td>\n",
       "      <td>0</td>\n",
       "    </tr>\n",
       "    <tr>\n",
       "      <th>1</th>\n",
       "      <td>2013</td>\n",
       "      <td>43000</td>\n",
       "      <td>Diesel</td>\n",
       "      <td>Dealer</td>\n",
       "      <td>Manual</td>\n",
       "      <td>0</td>\n",
       "    </tr>\n",
       "    <tr>\n",
       "      <th>2</th>\n",
       "      <td>2017</td>\n",
       "      <td>6900</td>\n",
       "      <td>Petrol</td>\n",
       "      <td>Dealer</td>\n",
       "      <td>Manual</td>\n",
       "      <td>0</td>\n",
       "    </tr>\n",
       "    <tr>\n",
       "      <th>3</th>\n",
       "      <td>2011</td>\n",
       "      <td>5200</td>\n",
       "      <td>Petrol</td>\n",
       "      <td>Dealer</td>\n",
       "      <td>Manual</td>\n",
       "      <td>0</td>\n",
       "    </tr>\n",
       "    <tr>\n",
       "      <th>4</th>\n",
       "      <td>2014</td>\n",
       "      <td>42450</td>\n",
       "      <td>Diesel</td>\n",
       "      <td>Dealer</td>\n",
       "      <td>Manual</td>\n",
       "      <td>0</td>\n",
       "    </tr>\n",
       "  </tbody>\n",
       "</table>\n",
       "</div>"
      ],
      "text/plain": [
       "   Year  Kms_Driven Fuel_Type Seller_Type Transmission  Owner\n",
       "0  2014       27000    Petrol      Dealer       Manual      0\n",
       "1  2013       43000    Diesel      Dealer       Manual      0\n",
       "2  2017        6900    Petrol      Dealer       Manual      0\n",
       "3  2011        5200    Petrol      Dealer       Manual      0\n",
       "4  2014       42450    Diesel      Dealer       Manual      0"
      ]
     },
     "execution_count": 19,
     "metadata": {},
     "output_type": "execute_result"
    }
   ],
   "source": [
    "x.head()"
   ]
  },
  {
   "cell_type": "code",
   "execution_count": 20,
   "id": "bcb35584-4616-45ff-a6a0-c5236e4276bb",
   "metadata": {},
   "outputs": [
    {
     "data": {
      "text/plain": [
       "array([0, 1, 3], dtype=int64)"
      ]
     },
     "execution_count": 20,
     "metadata": {},
     "output_type": "execute_result"
    }
   ],
   "source": [
    "x['Owner'].unique()"
   ]
  },
  {
   "cell_type": "code",
   "execution_count": 21,
   "id": "b8163f6a-ce23-4434-a2c0-d4a420cb4916",
   "metadata": {},
   "outputs": [
    {
     "data": {
      "text/plain": [
       "array(['Petrol', 'Diesel', 'CNG'], dtype=object)"
      ]
     },
     "execution_count": 21,
     "metadata": {},
     "output_type": "execute_result"
    }
   ],
   "source": [
    "x['Fuel_Type'].unique()"
   ]
  },
  {
   "cell_type": "code",
   "execution_count": 22,
   "id": "e01f0fe7-c8b8-403e-ae59-5dd527d9ad0b",
   "metadata": {},
   "outputs": [
    {
     "data": {
      "text/plain": [
       "array(['Dealer', 'Individual'], dtype=object)"
      ]
     },
     "execution_count": 22,
     "metadata": {},
     "output_type": "execute_result"
    }
   ],
   "source": [
    "x['Seller_Type'].unique()"
   ]
  },
  {
   "cell_type": "code",
   "execution_count": 23,
   "id": "17284575-27d0-4e3e-9ffe-fa00e7778409",
   "metadata": {},
   "outputs": [
    {
     "data": {
      "text/plain": [
       "array(['Manual', 'Automatic'], dtype=object)"
      ]
     },
     "execution_count": 23,
     "metadata": {},
     "output_type": "execute_result"
    }
   ],
   "source": [
    "x['Transmission'].unique()"
   ]
  },
  {
   "cell_type": "code",
   "execution_count": 24,
   "id": "50eeab1b-e0d7-4dbd-bbc8-3e5abd9c81d9",
   "metadata": {},
   "outputs": [],
   "source": [
    "x = pd.get_dummies(data = x,columns=['Fuel_Type','Seller_Type', 'Transmission'],drop_first=True ,dtype ='int')"
   ]
  },
  {
   "cell_type": "code",
   "execution_count": 25,
   "id": "7132bb78-d082-45a9-a2fc-b2f90a657259",
   "metadata": {},
   "outputs": [
    {
     "data": {
      "text/html": [
       "<div>\n",
       "<style scoped>\n",
       "    .dataframe tbody tr th:only-of-type {\n",
       "        vertical-align: middle;\n",
       "    }\n",
       "\n",
       "    .dataframe tbody tr th {\n",
       "        vertical-align: top;\n",
       "    }\n",
       "\n",
       "    .dataframe thead th {\n",
       "        text-align: right;\n",
       "    }\n",
       "</style>\n",
       "<table border=\"1\" class=\"dataframe\">\n",
       "  <thead>\n",
       "    <tr style=\"text-align: right;\">\n",
       "      <th></th>\n",
       "      <th>Year</th>\n",
       "      <th>Kms_Driven</th>\n",
       "      <th>Owner</th>\n",
       "      <th>Fuel_Type_Diesel</th>\n",
       "      <th>Fuel_Type_Petrol</th>\n",
       "      <th>Seller_Type_Individual</th>\n",
       "      <th>Transmission_Manual</th>\n",
       "    </tr>\n",
       "  </thead>\n",
       "  <tbody>\n",
       "    <tr>\n",
       "      <th>0</th>\n",
       "      <td>2014</td>\n",
       "      <td>27000</td>\n",
       "      <td>0</td>\n",
       "      <td>0</td>\n",
       "      <td>1</td>\n",
       "      <td>0</td>\n",
       "      <td>1</td>\n",
       "    </tr>\n",
       "    <tr>\n",
       "      <th>1</th>\n",
       "      <td>2013</td>\n",
       "      <td>43000</td>\n",
       "      <td>0</td>\n",
       "      <td>1</td>\n",
       "      <td>0</td>\n",
       "      <td>0</td>\n",
       "      <td>1</td>\n",
       "    </tr>\n",
       "    <tr>\n",
       "      <th>2</th>\n",
       "      <td>2017</td>\n",
       "      <td>6900</td>\n",
       "      <td>0</td>\n",
       "      <td>0</td>\n",
       "      <td>1</td>\n",
       "      <td>0</td>\n",
       "      <td>1</td>\n",
       "    </tr>\n",
       "    <tr>\n",
       "      <th>3</th>\n",
       "      <td>2011</td>\n",
       "      <td>5200</td>\n",
       "      <td>0</td>\n",
       "      <td>0</td>\n",
       "      <td>1</td>\n",
       "      <td>0</td>\n",
       "      <td>1</td>\n",
       "    </tr>\n",
       "    <tr>\n",
       "      <th>4</th>\n",
       "      <td>2014</td>\n",
       "      <td>42450</td>\n",
       "      <td>0</td>\n",
       "      <td>1</td>\n",
       "      <td>0</td>\n",
       "      <td>0</td>\n",
       "      <td>1</td>\n",
       "    </tr>\n",
       "  </tbody>\n",
       "</table>\n",
       "</div>"
      ],
      "text/plain": [
       "   Year  Kms_Driven  Owner  Fuel_Type_Diesel  Fuel_Type_Petrol  \\\n",
       "0  2014       27000      0                 0                 1   \n",
       "1  2013       43000      0                 1                 0   \n",
       "2  2017        6900      0                 0                 1   \n",
       "3  2011        5200      0                 0                 1   \n",
       "4  2014       42450      0                 1                 0   \n",
       "\n",
       "   Seller_Type_Individual  Transmission_Manual  \n",
       "0                       0                    1  \n",
       "1                       0                    1  \n",
       "2                       0                    1  \n",
       "3                       0                    1  \n",
       "4                       0                    1  "
      ]
     },
     "execution_count": 25,
     "metadata": {},
     "output_type": "execute_result"
    }
   ],
   "source": [
    "x.head()"
   ]
  },
  {
   "cell_type": "code",
   "execution_count": 26,
   "id": "e431845e-21de-4750-86c3-4284ffa0ff42",
   "metadata": {},
   "outputs": [],
   "source": [
    "from sklearn.preprocessing import MinMaxScaler"
   ]
  },
  {
   "cell_type": "code",
   "execution_count": 27,
   "id": "ad52281e-7782-42dc-8412-968628371c41",
   "metadata": {},
   "outputs": [],
   "source": [
    "scaler = MinMaxScaler()"
   ]
  },
  {
   "cell_type": "code",
   "execution_count": 28,
   "id": "03141d5f-52f6-42b4-82cb-2c018a46c16a",
   "metadata": {},
   "outputs": [
    {
     "data": {
      "text/plain": [
       "array([[0.73333333, 0.05305305, 0.        ],\n",
       "       [0.66666667, 0.08508509, 0.        ],\n",
       "       [0.93333333, 0.01281281, 0.        ],\n",
       "       [0.53333333, 0.00940941, 0.        ],\n",
       "       [0.73333333, 0.08398398, 0.        ],\n",
       "       [1.        , 0.00314515, 0.        ],\n",
       "       [0.8       , 0.03662863, 0.        ],\n",
       "       [0.8       , 0.06592392, 0.        ],\n",
       "       [0.86666667, 0.03958559, 0.        ],\n",
       "       [0.8       , 0.08381782, 0.        ],\n",
       "       [0.93333333, 0.00327327, 0.        ],\n",
       "       [0.8       , 0.1011011 , 0.        ],\n",
       "       [0.8       , 0.02902903, 0.        ],\n",
       "       [0.8       , 0.05105105, 0.        ],\n",
       "       [0.4       , 0.15400801, 0.        ],\n",
       "       [0.86666667, 0.08508509, 0.        ],\n",
       "       [0.8       , 0.08243844, 0.        ],\n",
       "       [0.86666667, 0.08508509, 0.        ],\n",
       "       [0.8       , 0.07007007, 0.        ],\n",
       "       [0.46666667, 0.08196597, 0.        ],\n",
       "       [0.86666667, 0.04904905, 0.        ],\n",
       "       [0.93333333, 0.0038038 , 0.        ],\n",
       "       [0.53333333, 0.0990991 , 0.        ],\n",
       "       [0.73333333, 0.08964965, 0.        ],\n",
       "       [0.66666667, 0.11287087, 0.        ],\n",
       "       [0.53333333, 0.03903904, 0.        ],\n",
       "       [0.66666667, 0.10938539, 0.        ],\n",
       "       [0.93333333, 0.03143143, 0.        ],\n",
       "       [0.46666667, 0.08817217, 0.        ],\n",
       "       [0.8       , 0.08908909, 0.        ],\n",
       "       [0.6       , 0.10197998, 0.        ],\n",
       "       [0.53333333, 0.10750751, 0.        ],\n",
       "       [0.73333333, 0.07707708, 0.        ],\n",
       "       [0.73333333, 0.08908909, 0.        ],\n",
       "       [0.73333333, 0.08908909, 0.        ],\n",
       "       [0.53333333, 0.0990951 , 0.        ],\n",
       "       [0.8       , 0.09663063, 0.        ],\n",
       "       [0.        , 0.25325325, 0.        ],\n",
       "       [0.86666667, 0.01917718, 0.        ],\n",
       "       [0.        , 0.12312312, 0.        ],\n",
       "       [0.86666667, 0.0480961 , 0.        ],\n",
       "       [0.73333333, 0.0925045 , 0.        ],\n",
       "       [0.33333333, 0.11511512, 0.        ],\n",
       "       [0.73333333, 0.09065065, 0.        ],\n",
       "       [0.6       , 0.0990991 , 0.        ],\n",
       "       [0.73333333, 0.02902903, 0.        ],\n",
       "       [0.66666667, 0.12819219, 0.        ],\n",
       "       [0.2       , 0.12912913, 0.        ],\n",
       "       [0.8       , 0.05079079, 0.        ],\n",
       "       [0.93333333, 0.07307307, 0.        ],\n",
       "       [0.6       , 0.20862262, 0.        ],\n",
       "       [0.8       , 0.07907908, 0.        ],\n",
       "       [0.93333333, 0.02902903, 0.        ],\n",
       "       [0.66666667, 0.26926927, 0.        ],\n",
       "       [0.13333333, 0.17917918, 0.        ],\n",
       "       [0.4       , 0.13913914, 0.        ],\n",
       "       [0.8       , 0.08014815, 0.        ],\n",
       "       [0.46666667, 0.0990991 , 0.        ],\n",
       "       [0.73333333, 0.07804805, 0.33333333],\n",
       "       [0.73333333, 0.08108108, 0.        ],\n",
       "       [0.66666667, 0.07908108, 0.        ],\n",
       "       [0.8       , 0.08025626, 0.        ],\n",
       "       [0.73333333, 0.15515516, 0.        ],\n",
       "       [0.8       , 0.09309309, 0.        ],\n",
       "       [0.93333333, 0.01101101, 0.        ],\n",
       "       [0.73333333, 0.08908909, 0.        ],\n",
       "       [0.93333333, 0.02102102, 0.        ],\n",
       "       [0.46666667, 0.11711712, 0.        ],\n",
       "       [0.53333333, 0.17517518, 0.        ],\n",
       "       [0.86666667, 0.02302302, 0.        ],\n",
       "       [0.73333333, 0.14114114, 0.        ],\n",
       "       [0.53333333, 0.08908909, 0.        ],\n",
       "       [0.66666667, 0.11111311, 0.        ],\n",
       "       [0.53333333, 0.08508509, 0.        ],\n",
       "       [0.73333333, 0.16516517, 0.        ],\n",
       "       [0.8       , 0.07107107, 0.        ],\n",
       "       [0.66666667, 0.14314314, 0.        ],\n",
       "       [0.06666667, 0.26957758, 0.        ],\n",
       "       [0.46666667, 0.15915916, 0.        ],\n",
       "       [0.6       , 0.17717718, 0.        ],\n",
       "       [0.86666667, 0.04504505, 0.        ],\n",
       "       [0.8       , 0.07907908, 0.        ],\n",
       "       [0.93333333, 0.02902903, 0.        ],\n",
       "       [0.8       , 0.07507508, 0.        ],\n",
       "       [0.13333333, 0.39374575, 0.        ],\n",
       "       [0.2       , 0.28328328, 1.        ],\n",
       "       [0.46666667, 0.15515516, 0.        ],\n",
       "       [0.6       , 0.11111111, 0.        ],\n",
       "       [0.66666667, 0.09309309, 0.        ],\n",
       "       [0.73333333, 0.07907908, 0.        ],\n",
       "       [0.4       , 0.12312312, 0.        ],\n",
       "       [0.73333333, 0.1155996 , 0.        ],\n",
       "       [0.13333333, 0.14914915, 0.        ],\n",
       "       [0.8       , 0.07907908, 0.        ],\n",
       "       [0.33333333, 0.17717718, 0.        ],\n",
       "       [0.6       , 0.14314314, 0.        ],\n",
       "       [0.86666667, 0.05705706, 0.        ],\n",
       "       [0.93333333, 0.01641642, 0.        ],\n",
       "       [0.66666667, 0.08908909, 0.        ],\n",
       "       [0.46666667, 0.09914715, 0.        ],\n",
       "       [0.86666667, 0.00500501, 0.        ],\n",
       "       [0.93333333, 0.0018018 , 0.        ],\n",
       "       [0.93333333, 0.00700701, 0.        ],\n",
       "       [0.93333333, 0.0014014 , 0.        ],\n",
       "       [0.93333333, 0.00720721, 0.        ],\n",
       "       [0.8       , 0.04244244, 0.        ],\n",
       "       [0.73333333, 0.03203203, 0.33333333],\n",
       "       [0.66666667, 0.02902903, 0.        ],\n",
       "       [0.86666667, 0.03503504, 0.        ],\n",
       "       [0.93333333, 0.02102102, 0.        ],\n",
       "       [0.86666667, 0.01101101, 0.        ],\n",
       "       [0.86666667, 0.01641642, 0.        ],\n",
       "       [0.73333333, 0.01301301, 0.        ],\n",
       "       [0.86666667, 0.06906907, 0.        ],\n",
       "       [0.8       , 0.03303303, 0.        ],\n",
       "       [0.8       , 0.03403403, 0.        ],\n",
       "       [0.66666667, 0.06506507, 0.        ],\n",
       "       [0.8       , 0.02702703, 0.        ],\n",
       "       [0.8       , 0.05105105, 0.        ],\n",
       "       [0.66666667, 0.00980981, 0.        ],\n",
       "       [0.86666667, 0.01041041, 0.        ],\n",
       "       [0.53333333, 0.01281281, 0.        ],\n",
       "       [0.86666667, 0.01101101, 0.        ],\n",
       "       [0.66666667, 0.09209209, 0.        ],\n",
       "       [0.6       , 0.02202202, 0.        ],\n",
       "       [0.4       , 0.07907908, 0.        ],\n",
       "       [0.93333333, 0.0016016 , 0.        ],\n",
       "       [0.86666667, 0.01301301, 0.        ],\n",
       "       [0.93333333, 0.00500501, 0.        ],\n",
       "       [0.93333333, 0.00900901, 0.        ],\n",
       "       [0.93333333, 0.02102102, 0.        ],\n",
       "       [0.8       , 0.03503504, 0.        ],\n",
       "       [0.93333333, 0.00600601, 0.        ],\n",
       "       [0.86666667, 0.        , 0.        ],\n",
       "       [0.93333333, 0.02262262, 0.        ],\n",
       "       [0.8       , 0.00900901, 0.        ],\n",
       "       [0.73333333, 0.04604605, 0.        ],\n",
       "       [0.66666667, 0.03103103, 0.        ],\n",
       "       [0.86666667, 0.02902903, 0.        ],\n",
       "       [0.8       , 0.03223223, 0.        ],\n",
       "       [0.66666667, 0.06306306, 0.        ],\n",
       "       [0.86666667, 0.03903904, 0.        ],\n",
       "       [0.8       , 0.05705706, 0.        ],\n",
       "       [0.86666667, 0.04904905, 0.        ],\n",
       "       [0.73333333, 0.04904905, 0.        ],\n",
       "       [0.6       , 0.03703704, 0.        ],\n",
       "       [0.73333333, 0.02902903, 0.        ],\n",
       "       [0.8       , 0.11511512, 0.        ],\n",
       "       [0.46666667, 0.08908909, 0.        ],\n",
       "       [0.86666667, 0.04704705, 0.        ],\n",
       "       [0.53333333, 0.01101101, 0.        ],\n",
       "       [0.86666667, 0.06106106, 0.        ],\n",
       "       [0.6       , 0.02502503, 0.        ],\n",
       "       [0.66666667, 0.08908909, 0.        ],\n",
       "       [0.73333333, 0.01501502, 0.        ],\n",
       "       [0.93333333, 0.00760761, 0.        ],\n",
       "       [0.93333333, 0.02902903, 0.        ],\n",
       "       [0.8       , 0.04504505, 0.        ],\n",
       "       [0.93333333, 0.01621622, 0.        ],\n",
       "       [0.93333333, 0.00700701, 0.        ],\n",
       "       [0.53333333, 0.04704705, 0.        ],\n",
       "       [0.73333333, 0.04504505, 0.        ],\n",
       "       [0.6       , 0.02802803, 0.        ],\n",
       "       [0.46666667, 0.05305305, 0.        ],\n",
       "       [0.86666667, 0.02702703, 0.        ],\n",
       "       [0.86666667, 0.        , 0.        ],\n",
       "       [0.86666667, 0.001001  , 0.        ],\n",
       "       [0.73333333, 0.08308308, 0.        ],\n",
       "       [0.66666667, 0.02302302, 0.        ],\n",
       "       [0.8       , 0.02702703, 0.        ],\n",
       "       [0.6       , 0.01001001, 0.        ],\n",
       "       [0.8       , 0.01241241, 0.        ],\n",
       "       [0.73333333, 0.02642643, 0.        ],\n",
       "       [0.93333333, 0.0016016 , 0.        ],\n",
       "       [0.8       , 0.07627628, 0.        ],\n",
       "       [0.53333333, 0.14914915, 0.        ],\n",
       "       [0.53333333, 0.05905906, 0.        ],\n",
       "       [0.86666667, 0.04704705, 0.        ],\n",
       "       [0.73333333, 0.03703704, 0.        ],\n",
       "       [0.46666667, 0.42542543, 0.        ],\n",
       "       [0.6       , 0.11911912, 0.        ],\n",
       "       [0.86666667, 0.0990991 , 0.        ],\n",
       "       [0.66666667, 0.05905906, 0.        ],\n",
       "       [0.66666667, 0.04104104, 0.        ],\n",
       "       [0.33333333, 0.05105105, 0.33333333],\n",
       "       [0.33333333, 0.0028028 , 0.        ],\n",
       "       [0.46666667, 0.04304304, 0.        ],\n",
       "       [0.66666667, 0.06306306, 0.        ],\n",
       "       [0.66666667, 0.03503504, 0.        ],\n",
       "       [0.13333333, 0.10910911, 0.        ],\n",
       "       [0.33333333, 0.11911912, 0.        ],\n",
       "       [0.6       , 0.04904905, 0.33333333],\n",
       "       [0.26666667, 0.0970971 , 0.33333333],\n",
       "       [0.66666667, 0.04704705, 0.33333333],\n",
       "       [0.33333333, 0.0990991 , 0.        ],\n",
       "       [0.8       , 0.06906907, 0.        ],\n",
       "       [0.33333333, 1.        , 0.        ],\n",
       "       [0.46666667, 0.06506507, 0.        ],\n",
       "       [0.53333333, 0.06906907, 0.33333333],\n",
       "       [0.26666667, 0.10510511, 0.        ],\n",
       "       [0.2       , 0.18364965, 0.        ],\n",
       "       [0.46666667, 0.11511512, 0.33333333],\n",
       "       [0.8       , 0.05545546, 0.        ],\n",
       "       [0.53333333, 0.10602603, 0.        ],\n",
       "       [0.8       , 0.05561962, 0.        ],\n",
       "       [0.86666667, 0.00599199, 0.33333333],\n",
       "       [0.93333333, 0.02398198, 0.        ],\n",
       "       [0.8       , 0.06866266, 0.        ],\n",
       "       [0.93333333, 0.00587588, 0.        ],\n",
       "       [0.8       , 0.04129129, 0.        ],\n",
       "       [0.6       , 0.07062062, 0.        ],\n",
       "       [0.8       , 0.08615616, 0.        ],\n",
       "       [0.86666667, 0.04438639, 0.        ],\n",
       "       [0.53333333, 0.06227027, 0.        ],\n",
       "       [0.93333333, 0.03926727, 0.        ],\n",
       "       [0.6       , 0.07127127, 0.        ],\n",
       "       [0.86666667, 0.02402402, 0.        ],\n",
       "       [0.86666667, 0.02902903, 0.        ],\n",
       "       [0.73333333, 0.08924525, 0.        ],\n",
       "       [0.6       , 0.07107107, 0.        ],\n",
       "       [0.93333333, 0.07605205, 0.        ],\n",
       "       [0.66666667, 0.06306306, 0.        ],\n",
       "       [0.73333333, 0.15441842, 0.        ],\n",
       "       [0.8       , 0.12188388, 0.        ],\n",
       "       [0.66666667, 0.07146747, 0.        ],\n",
       "       [0.53333333, 0.04407808, 0.        ],\n",
       "       [0.8       , 0.0484044 , 0.        ],\n",
       "       [0.53333333, 0.11311311, 0.        ],\n",
       "       [0.6       , 0.11911912, 0.        ],\n",
       "       [0.6       , 0.10336737, 0.        ],\n",
       "       [0.66666667, 0.08908909, 0.        ],\n",
       "       [0.93333333, 0.02903103, 0.        ],\n",
       "       [0.8       , 0.02482482, 0.        ],\n",
       "       [0.66666667, 0.10510511, 0.        ],\n",
       "       [0.8       , 0.00799199, 0.        ],\n",
       "       [0.93333333, 0.02931131, 0.        ],\n",
       "       [0.86666667, 0.02272072, 0.        ],\n",
       "       [0.8       , 0.13513514, 0.        ],\n",
       "       [0.66666667, 0.1196016 , 0.        ],\n",
       "       [0.6       , 0.04646446, 0.        ],\n",
       "       [0.6       , 0.06370771, 0.        ],\n",
       "       [0.8       , 0.0708028 , 0.33333333],\n",
       "       [0.73333333, 0.06706707, 0.        ],\n",
       "       [0.86666667, 0.01301301, 0.        ],\n",
       "       [0.66666667, 0.0970971 , 0.        ],\n",
       "       [0.6       , 0.14114114, 0.        ],\n",
       "       [0.6       , 0.06906907, 0.        ],\n",
       "       [0.8       , 0.07107107, 0.        ],\n",
       "       [0.66666667, 0.05905906, 0.        ],\n",
       "       [0.86666667, 0.03303303, 0.        ],\n",
       "       [0.86666667, 0.07093894, 0.        ],\n",
       "       [0.66666667, 0.11251451, 0.        ],\n",
       "       [0.8       , 0.06191592, 0.        ],\n",
       "       [0.73333333, 0.0950951 , 0.        ],\n",
       "       [0.66666667, 0.10759159, 0.        ],\n",
       "       [0.6       , 0.10645646, 0.        ],\n",
       "       [0.86666667, 0.09822222, 0.        ],\n",
       "       [0.8       , 0.07972773, 0.        ],\n",
       "       [0.8       , 0.04904905, 0.        ],\n",
       "       [0.73333333, 0.07117918, 0.        ],\n",
       "       [0.86666667, 0.0575035 , 0.        ],\n",
       "       [0.86666667, 0.01021021, 0.        ],\n",
       "       [0.8       , 0.07912513, 0.        ],\n",
       "       [0.86666667, 0.03103504, 0.        ],\n",
       "       [0.8       , 0.07913113, 0.        ],\n",
       "       [0.93333333, 0.04144144, 0.        ],\n",
       "       [0.73333333, 0.06906907, 0.        ],\n",
       "       [0.86666667, 0.03790591, 0.        ],\n",
       "       [0.93333333, 0.03703704, 0.        ],\n",
       "       [0.8       , 0.03669269, 0.        ],\n",
       "       [0.53333333, 0.13781982, 0.        ],\n",
       "       [0.4       , 0.13826226, 0.        ],\n",
       "       [0.8       , 0.05425425, 0.        ],\n",
       "       [0.46666667, 0.12152753, 0.        ],\n",
       "       [0.73333333, 0.03203203, 0.        ],\n",
       "       [0.86666667, 0.06056657, 0.        ],\n",
       "       [0.8       , 0.04864865, 0.        ],\n",
       "       [0.8       , 0.0426026 , 0.        ],\n",
       "       [0.86666667, 0.00700701, 0.        ],\n",
       "       [0.73333333, 0.07933133, 0.        ],\n",
       "       [0.8       , 0.02795796, 0.        ],\n",
       "       [0.2       , 0.10001201, 0.        ],\n",
       "       [0.73333333, 0.12512513, 0.        ],\n",
       "       [0.86666667, 0.01703704, 0.        ],\n",
       "       [0.66666667, 0.01861862, 0.        ],\n",
       "       [0.86666667, 0.02914715, 0.        ],\n",
       "       [0.86666667, 0.05619419, 0.        ],\n",
       "       [0.8       , 0.08708709, 0.        ],\n",
       "       [0.8       , 0.06706707, 0.        ],\n",
       "       [0.86666667, 0.02098098, 0.        ],\n",
       "       [0.73333333, 0.03703704, 0.        ],\n",
       "       [0.8       , 0.06191592, 0.        ],\n",
       "       [0.86666667, 0.02302302, 0.        ],\n",
       "       [0.46666667, 0.07507508, 0.        ],\n",
       "       [0.73333333, 0.0651031 , 0.        ],\n",
       "       [0.8       , 0.11927127, 0.        ],\n",
       "       [0.86666667, 0.06704304, 0.        ],\n",
       "       [0.8       , 0.11911912, 0.        ],\n",
       "       [0.4       , 0.17504304, 0.        ],\n",
       "       [0.93333333, 0.01701702, 0.        ],\n",
       "       [0.86666667, 0.00993794, 0.        ]])"
      ]
     },
     "execution_count": 28,
     "metadata": {},
     "output_type": "execute_result"
    }
   ],
   "source": [
    "scaler.fit_transform(df[['Year','Kms_Driven' , 'Owner']])"
   ]
  },
  {
   "cell_type": "code",
   "execution_count": 29,
   "id": "c4daadb2-6197-4e0d-b980-4d84b368a1c2",
   "metadata": {},
   "outputs": [],
   "source": [
    "x['Year'] = scaler.fit_transform(x[['Year']])"
   ]
  },
  {
   "cell_type": "code",
   "execution_count": 30,
   "id": "5bdba415-4944-404d-8b15-c3594bdcfc32",
   "metadata": {},
   "outputs": [
    {
     "data": {
      "text/html": [
       "<div>\n",
       "<style scoped>\n",
       "    .dataframe tbody tr th:only-of-type {\n",
       "        vertical-align: middle;\n",
       "    }\n",
       "\n",
       "    .dataframe tbody tr th {\n",
       "        vertical-align: top;\n",
       "    }\n",
       "\n",
       "    .dataframe thead th {\n",
       "        text-align: right;\n",
       "    }\n",
       "</style>\n",
       "<table border=\"1\" class=\"dataframe\">\n",
       "  <thead>\n",
       "    <tr style=\"text-align: right;\">\n",
       "      <th></th>\n",
       "      <th>Year</th>\n",
       "      <th>Kms_Driven</th>\n",
       "      <th>Owner</th>\n",
       "      <th>Fuel_Type_Diesel</th>\n",
       "      <th>Fuel_Type_Petrol</th>\n",
       "      <th>Seller_Type_Individual</th>\n",
       "      <th>Transmission_Manual</th>\n",
       "    </tr>\n",
       "  </thead>\n",
       "  <tbody>\n",
       "    <tr>\n",
       "      <th>0</th>\n",
       "      <td>0.733333</td>\n",
       "      <td>27000</td>\n",
       "      <td>0</td>\n",
       "      <td>0</td>\n",
       "      <td>1</td>\n",
       "      <td>0</td>\n",
       "      <td>1</td>\n",
       "    </tr>\n",
       "    <tr>\n",
       "      <th>1</th>\n",
       "      <td>0.666667</td>\n",
       "      <td>43000</td>\n",
       "      <td>0</td>\n",
       "      <td>1</td>\n",
       "      <td>0</td>\n",
       "      <td>0</td>\n",
       "      <td>1</td>\n",
       "    </tr>\n",
       "    <tr>\n",
       "      <th>2</th>\n",
       "      <td>0.933333</td>\n",
       "      <td>6900</td>\n",
       "      <td>0</td>\n",
       "      <td>0</td>\n",
       "      <td>1</td>\n",
       "      <td>0</td>\n",
       "      <td>1</td>\n",
       "    </tr>\n",
       "    <tr>\n",
       "      <th>3</th>\n",
       "      <td>0.533333</td>\n",
       "      <td>5200</td>\n",
       "      <td>0</td>\n",
       "      <td>0</td>\n",
       "      <td>1</td>\n",
       "      <td>0</td>\n",
       "      <td>1</td>\n",
       "    </tr>\n",
       "    <tr>\n",
       "      <th>4</th>\n",
       "      <td>0.733333</td>\n",
       "      <td>42450</td>\n",
       "      <td>0</td>\n",
       "      <td>1</td>\n",
       "      <td>0</td>\n",
       "      <td>0</td>\n",
       "      <td>1</td>\n",
       "    </tr>\n",
       "  </tbody>\n",
       "</table>\n",
       "</div>"
      ],
      "text/plain": [
       "       Year  Kms_Driven  Owner  Fuel_Type_Diesel  Fuel_Type_Petrol  \\\n",
       "0  0.733333       27000      0                 0                 1   \n",
       "1  0.666667       43000      0                 1                 0   \n",
       "2  0.933333        6900      0                 0                 1   \n",
       "3  0.533333        5200      0                 0                 1   \n",
       "4  0.733333       42450      0                 1                 0   \n",
       "\n",
       "   Seller_Type_Individual  Transmission_Manual  \n",
       "0                       0                    1  \n",
       "1                       0                    1  \n",
       "2                       0                    1  \n",
       "3                       0                    1  \n",
       "4                       0                    1  "
      ]
     },
     "execution_count": 30,
     "metadata": {},
     "output_type": "execute_result"
    }
   ],
   "source": [
    "x.head()"
   ]
  },
  {
   "cell_type": "code",
   "execution_count": 31,
   "id": "ffc467a9-8e81-40d8-a3b4-4583970fa9ef",
   "metadata": {},
   "outputs": [],
   "source": [
    "x['Kms_Driven'] = scaler.fit_transform(x[['Kms_Driven']])"
   ]
  },
  {
   "cell_type": "code",
   "execution_count": 32,
   "id": "c8343138-785e-45fb-8110-94ed12530b5d",
   "metadata": {},
   "outputs": [],
   "source": [
    "x['Owner'] = scaler.fit_transform(x[['Owner']])"
   ]
  },
  {
   "cell_type": "code",
   "execution_count": 33,
   "id": "abb21047-c35a-4231-8762-8dd3daf51120",
   "metadata": {},
   "outputs": [
    {
     "data": {
      "text/html": [
       "<div>\n",
       "<style scoped>\n",
       "    .dataframe tbody tr th:only-of-type {\n",
       "        vertical-align: middle;\n",
       "    }\n",
       "\n",
       "    .dataframe tbody tr th {\n",
       "        vertical-align: top;\n",
       "    }\n",
       "\n",
       "    .dataframe thead th {\n",
       "        text-align: right;\n",
       "    }\n",
       "</style>\n",
       "<table border=\"1\" class=\"dataframe\">\n",
       "  <thead>\n",
       "    <tr style=\"text-align: right;\">\n",
       "      <th></th>\n",
       "      <th>Year</th>\n",
       "      <th>Kms_Driven</th>\n",
       "      <th>Owner</th>\n",
       "      <th>Fuel_Type_Diesel</th>\n",
       "      <th>Fuel_Type_Petrol</th>\n",
       "      <th>Seller_Type_Individual</th>\n",
       "      <th>Transmission_Manual</th>\n",
       "    </tr>\n",
       "  </thead>\n",
       "  <tbody>\n",
       "    <tr>\n",
       "      <th>0</th>\n",
       "      <td>0.733333</td>\n",
       "      <td>0.053053</td>\n",
       "      <td>0.0</td>\n",
       "      <td>0</td>\n",
       "      <td>1</td>\n",
       "      <td>0</td>\n",
       "      <td>1</td>\n",
       "    </tr>\n",
       "    <tr>\n",
       "      <th>1</th>\n",
       "      <td>0.666667</td>\n",
       "      <td>0.085085</td>\n",
       "      <td>0.0</td>\n",
       "      <td>1</td>\n",
       "      <td>0</td>\n",
       "      <td>0</td>\n",
       "      <td>1</td>\n",
       "    </tr>\n",
       "    <tr>\n",
       "      <th>2</th>\n",
       "      <td>0.933333</td>\n",
       "      <td>0.012813</td>\n",
       "      <td>0.0</td>\n",
       "      <td>0</td>\n",
       "      <td>1</td>\n",
       "      <td>0</td>\n",
       "      <td>1</td>\n",
       "    </tr>\n",
       "    <tr>\n",
       "      <th>3</th>\n",
       "      <td>0.533333</td>\n",
       "      <td>0.009409</td>\n",
       "      <td>0.0</td>\n",
       "      <td>0</td>\n",
       "      <td>1</td>\n",
       "      <td>0</td>\n",
       "      <td>1</td>\n",
       "    </tr>\n",
       "    <tr>\n",
       "      <th>4</th>\n",
       "      <td>0.733333</td>\n",
       "      <td>0.083984</td>\n",
       "      <td>0.0</td>\n",
       "      <td>1</td>\n",
       "      <td>0</td>\n",
       "      <td>0</td>\n",
       "      <td>1</td>\n",
       "    </tr>\n",
       "  </tbody>\n",
       "</table>\n",
       "</div>"
      ],
      "text/plain": [
       "       Year  Kms_Driven  Owner  Fuel_Type_Diesel  Fuel_Type_Petrol  \\\n",
       "0  0.733333    0.053053    0.0                 0                 1   \n",
       "1  0.666667    0.085085    0.0                 1                 0   \n",
       "2  0.933333    0.012813    0.0                 0                 1   \n",
       "3  0.533333    0.009409    0.0                 0                 1   \n",
       "4  0.733333    0.083984    0.0                 1                 0   \n",
       "\n",
       "   Seller_Type_Individual  Transmission_Manual  \n",
       "0                       0                    1  \n",
       "1                       0                    1  \n",
       "2                       0                    1  \n",
       "3                       0                    1  \n",
       "4                       0                    1  "
      ]
     },
     "execution_count": 33,
     "metadata": {},
     "output_type": "execute_result"
    }
   ],
   "source": [
    "x.head()"
   ]
  },
  {
   "cell_type": "code",
   "execution_count": 35,
   "id": "711102cd-2701-4d53-aba3-fb80b5d7dd4e",
   "metadata": {},
   "outputs": [
    {
     "data": {
      "text/plain": [
       "0    3.35\n",
       "1    4.75\n",
       "2    7.25\n",
       "3    2.85\n",
       "4    4.60\n",
       "Name: Selling_Price, dtype: float64"
      ]
     },
     "execution_count": 35,
     "metadata": {},
     "output_type": "execute_result"
    }
   ],
   "source": [
    "y.head()"
   ]
  },
  {
   "cell_type": "code",
   "execution_count": 36,
   "id": "db88213b-b54f-4a01-93d0-1e2257f84e06",
   "metadata": {},
   "outputs": [],
   "source": [
    "from sklearn.model_selection import train_test_split"
   ]
  },
  {
   "cell_type": "code",
   "execution_count": 37,
   "id": "f8b7fae5-dfb7-44fb-ad43-71ce22c34669",
   "metadata": {},
   "outputs": [],
   "source": [
    "X_train, X_test, y_train, y_test = train_test_split( x, y, test_size=0.20, random_state=42)"
   ]
  },
  {
   "cell_type": "code",
   "execution_count": 38,
   "id": "5f1ef4a9-0f81-468b-9f21-da12167defee",
   "metadata": {},
   "outputs": [
    {
     "data": {
      "text/plain": [
       "(240, 7)"
      ]
     },
     "execution_count": 38,
     "metadata": {},
     "output_type": "execute_result"
    }
   ],
   "source": [
    "X_train.shape"
   ]
  },
  {
   "cell_type": "code",
   "execution_count": 39,
   "id": "0f3cff3d-076f-4620-95b9-6231e7a8dbe9",
   "metadata": {},
   "outputs": [
    {
     "data": {
      "text/plain": [
       "(61, 7)"
      ]
     },
     "execution_count": 39,
     "metadata": {},
     "output_type": "execute_result"
    }
   ],
   "source": [
    "X_test.shape"
   ]
  },
  {
   "cell_type": "code",
   "execution_count": 40,
   "id": "12b5a588-5344-461d-9b08-1a854e933823",
   "metadata": {},
   "outputs": [
    {
     "data": {
      "text/plain": [
       "(61, 7)"
      ]
     },
     "execution_count": 40,
     "metadata": {},
     "output_type": "execute_result"
    }
   ],
   "source": [
    "X_test.shape"
   ]
  },
  {
   "cell_type": "code",
   "execution_count": 41,
   "id": "3077a283-77fa-4c1d-b68b-47a6f1c539ef",
   "metadata": {},
   "outputs": [],
   "source": [
    "from sklearn.linear_model import LinearRegression"
   ]
  },
  {
   "cell_type": "code",
   "execution_count": 44,
   "id": "a73ca4ef-4078-43f0-8180-8b5ba05f2326",
   "metadata": {},
   "outputs": [],
   "source": [
    "model = LinearRegression()"
   ]
  },
  {
   "cell_type": "code",
   "execution_count": 45,
   "id": "cc220cef-6d5c-4847-898b-3798c0d88315",
   "metadata": {},
   "outputs": [
    {
     "data": {
      "text/html": [
       "<style>#sk-container-id-1 {color: black;}#sk-container-id-1 pre{padding: 0;}#sk-container-id-1 div.sk-toggleable {background-color: white;}#sk-container-id-1 label.sk-toggleable__label {cursor: pointer;display: block;width: 100%;margin-bottom: 0;padding: 0.3em;box-sizing: border-box;text-align: center;}#sk-container-id-1 label.sk-toggleable__label-arrow:before {content: \"▸\";float: left;margin-right: 0.25em;color: #696969;}#sk-container-id-1 label.sk-toggleable__label-arrow:hover:before {color: black;}#sk-container-id-1 div.sk-estimator:hover label.sk-toggleable__label-arrow:before {color: black;}#sk-container-id-1 div.sk-toggleable__content {max-height: 0;max-width: 0;overflow: hidden;text-align: left;background-color: #f0f8ff;}#sk-container-id-1 div.sk-toggleable__content pre {margin: 0.2em;color: black;border-radius: 0.25em;background-color: #f0f8ff;}#sk-container-id-1 input.sk-toggleable__control:checked~div.sk-toggleable__content {max-height: 200px;max-width: 100%;overflow: auto;}#sk-container-id-1 input.sk-toggleable__control:checked~label.sk-toggleable__label-arrow:before {content: \"▾\";}#sk-container-id-1 div.sk-estimator input.sk-toggleable__control:checked~label.sk-toggleable__label {background-color: #d4ebff;}#sk-container-id-1 div.sk-label input.sk-toggleable__control:checked~label.sk-toggleable__label {background-color: #d4ebff;}#sk-container-id-1 input.sk-hidden--visually {border: 0;clip: rect(1px 1px 1px 1px);clip: rect(1px, 1px, 1px, 1px);height: 1px;margin: -1px;overflow: hidden;padding: 0;position: absolute;width: 1px;}#sk-container-id-1 div.sk-estimator {font-family: monospace;background-color: #f0f8ff;border: 1px dotted black;border-radius: 0.25em;box-sizing: border-box;margin-bottom: 0.5em;}#sk-container-id-1 div.sk-estimator:hover {background-color: #d4ebff;}#sk-container-id-1 div.sk-parallel-item::after {content: \"\";width: 100%;border-bottom: 1px solid gray;flex-grow: 1;}#sk-container-id-1 div.sk-label:hover label.sk-toggleable__label {background-color: #d4ebff;}#sk-container-id-1 div.sk-serial::before {content: \"\";position: absolute;border-left: 1px solid gray;box-sizing: border-box;top: 0;bottom: 0;left: 50%;z-index: 0;}#sk-container-id-1 div.sk-serial {display: flex;flex-direction: column;align-items: center;background-color: white;padding-right: 0.2em;padding-left: 0.2em;position: relative;}#sk-container-id-1 div.sk-item {position: relative;z-index: 1;}#sk-container-id-1 div.sk-parallel {display: flex;align-items: stretch;justify-content: center;background-color: white;position: relative;}#sk-container-id-1 div.sk-item::before, #sk-container-id-1 div.sk-parallel-item::before {content: \"\";position: absolute;border-left: 1px solid gray;box-sizing: border-box;top: 0;bottom: 0;left: 50%;z-index: -1;}#sk-container-id-1 div.sk-parallel-item {display: flex;flex-direction: column;z-index: 1;position: relative;background-color: white;}#sk-container-id-1 div.sk-parallel-item:first-child::after {align-self: flex-end;width: 50%;}#sk-container-id-1 div.sk-parallel-item:last-child::after {align-self: flex-start;width: 50%;}#sk-container-id-1 div.sk-parallel-item:only-child::after {width: 0;}#sk-container-id-1 div.sk-dashed-wrapped {border: 1px dashed gray;margin: 0 0.4em 0.5em 0.4em;box-sizing: border-box;padding-bottom: 0.4em;background-color: white;}#sk-container-id-1 div.sk-label label {font-family: monospace;font-weight: bold;display: inline-block;line-height: 1.2em;}#sk-container-id-1 div.sk-label-container {text-align: center;}#sk-container-id-1 div.sk-container {/* jupyter's `normalize.less` sets `[hidden] { display: none; }` but bootstrap.min.css set `[hidden] { display: none !important; }` so we also need the `!important` here to be able to override the default hidden behavior on the sphinx rendered scikit-learn.org. See: https://github.com/scikit-learn/scikit-learn/issues/21755 */display: inline-block !important;position: relative;}#sk-container-id-1 div.sk-text-repr-fallback {display: none;}</style><div id=\"sk-container-id-1\" class=\"sk-top-container\"><div class=\"sk-text-repr-fallback\"><pre>LinearRegression()</pre><b>In a Jupyter environment, please rerun this cell to show the HTML representation or trust the notebook. <br />On GitHub, the HTML representation is unable to render, please try loading this page with nbviewer.org.</b></div><div class=\"sk-container\" hidden><div class=\"sk-item\"><div class=\"sk-estimator sk-toggleable\"><input class=\"sk-toggleable__control sk-hidden--visually\" id=\"sk-estimator-id-1\" type=\"checkbox\" checked><label for=\"sk-estimator-id-1\" class=\"sk-toggleable__label sk-toggleable__label-arrow\">LinearRegression</label><div class=\"sk-toggleable__content\"><pre>LinearRegression()</pre></div></div></div></div></div>"
      ],
      "text/plain": [
       "LinearRegression()"
      ]
     },
     "execution_count": 45,
     "metadata": {},
     "output_type": "execute_result"
    }
   ],
   "source": [
    "model.fit(X_train, y_train)"
   ]
  },
  {
   "cell_type": "code",
   "execution_count": 46,
   "id": "ffe2482c-4d57-4c55-a997-6013ceb6672d",
   "metadata": {},
   "outputs": [
    {
     "data": {
      "text/plain": [
       "0.5902852717348201"
      ]
     },
     "execution_count": 46,
     "metadata": {},
     "output_type": "execute_result"
    }
   ],
   "source": [
    "model.score(X_test, y_test)"
   ]
  },
  {
   "cell_type": "code",
   "execution_count": 49,
   "id": "11ec1e5a-953e-486a-8953-c8f7dad046c3",
   "metadata": {},
   "outputs": [
    {
     "data": {
      "text/plain": [
       "array([ 5.97794492,  5.3246979 ,  9.15930812, -0.43919744,  4.3655473 ,\n",
       "       10.06732916,  0.87891787,  0.68344957,  1.20907945,  9.7792233 ,\n",
       "       11.07710198,  0.2949209 ,  9.56784369,  6.35614711,  9.50293903,\n",
       "        4.25540861,  0.11516681,  5.61121886,  1.50960852,  1.5419349 ,\n",
       "        0.38920619, 10.44657746,  9.28357614,  3.90277877,  0.60712338,\n",
       "        4.1117164 ,  4.29056804,  3.79951392,  1.49883305,  1.19112035,\n",
       "        0.37124709,  9.69840734, -0.50699326,  2.90331447, 10.3407714 ,\n",
       "        4.66428494,  4.22187896,  3.16163964,  4.28976886,  3.49180122,\n",
       "        1.99813547,  6.26553644,  4.73612136,  0.53079719, 10.10745877,\n",
       "        0.29941067,  4.64127035,  8.17087117,  4.41044955,  9.19463368,\n",
       "        9.19638515,  1.52981251, 14.86029125, 15.55653262,  9.98196055,\n",
       "       10.04968479,  5.0775433 , 10.38123326,  2.3846168 , 10.12014734,\n",
       "        0.30839023])"
      ]
     },
     "execution_count": 49,
     "metadata": {},
     "output_type": "execute_result"
    }
   ],
   "source": [
    "pred = model.predict(X_test)\n",
    "pred"
   ]
  },
  {
   "cell_type": "code",
   "execution_count": null,
   "id": "5b62116e-d961-40c0-bc1b-5231e63b30f3",
   "metadata": {},
   "outputs": [],
   "source": []
  }
 ],
 "metadata": {
  "kernelspec": {
   "display_name": "Python 3 (ipykernel)",
   "language": "python",
   "name": "python3"
  },
  "language_info": {
   "codemirror_mode": {
    "name": "ipython",
    "version": 3
   },
   "file_extension": ".py",
   "mimetype": "text/x-python",
   "name": "python",
   "nbconvert_exporter": "python",
   "pygments_lexer": "ipython3",
   "version": "3.11.5"
  }
 },
 "nbformat": 4,
 "nbformat_minor": 5
}
